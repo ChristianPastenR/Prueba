{
 "cells": [
  {
   "cell_type": "code",
   "execution_count": 39,
   "metadata": {},
   "outputs": [
    {
     "name": "stdout",
     "output_type": "stream",
     "text": [
      "1.1.3\n"
     ]
    }
   ],
   "source": [
    "import sklearn as skl\n",
    "print(skl.__version__)"
   ]
  },
  {
   "cell_type": "code",
   "execution_count": 58,
   "metadata": {},
   "outputs": [
    {
     "name": "stdout",
     "output_type": "stream",
     "text": [
      "[1]\n"
     ]
    }
   ],
   "source": [
    "from sklearn import tree\n",
    "\n",
    "defrost = [[0,3,5,3,0],[-10,-5,-0,-5,-10]]\n",
    "\n",
    "salida = [1,1]\n",
    "\n",
    "\n",
    "\n",
    "\n",
    "\n",
    "classifier = tree.DecisionTreeClassifier()\n",
    "classifier.fit(defrost,salida)\n",
    "\n",
    "res = classifier.predict([[1,2,3,4,5]])\n",
    "\n",
    "print(res)\n"
   ]
  }
 ],
 "metadata": {
  "kernelspec": {
   "display_name": "Python 3",
   "language": "python",
   "name": "python3"
  },
  "language_info": {
   "codemirror_mode": {
    "name": "ipython",
    "version": 3
   },
   "file_extension": ".py",
   "mimetype": "text/x-python",
   "name": "python",
   "nbconvert_exporter": "python",
   "pygments_lexer": "ipython3",
   "version": "3.9.0"
  },
  "orig_nbformat": 4,
  "vscode": {
   "interpreter": {
    "hash": "33198441ea01c1099b16aa908322b438e3aefad70531b66eaa24a90149d4234f"
   }
  }
 },
 "nbformat": 4,
 "nbformat_minor": 2
}
