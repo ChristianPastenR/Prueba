{
 "cells": [
  {
   "cell_type": "code",
   "execution_count": 10,
   "metadata": {},
   "outputs": [],
   "source": [
    "#Importando librerias\n",
    "import tensorflow as tf\n",
    "import numpy as np\n",
    "from tensorflow import keras #Biblioteca Keras\n",
    "import csv\n",
    "import pandas as pd"
   ]
  },
  {
   "cell_type": "code",
   "execution_count": 96,
   "metadata": {},
   "outputs": [
    {
     "name": "stdout",
     "output_type": "stream",
     "text": [
      "        Timestamp;temp;ss_max;ss_min\n",
      "0     07-01-2023 19:29;-15.6;-12;-23\n",
      "1    07-01-2023 19:30;-15.57;-12;-23\n",
      "2    07-01-2023 19:32;-15.54;-12;-23\n",
      "3    07-01-2023 19:34;-15.47;-12;-23\n",
      "4    07-01-2023 19:36;-15.44;-12;-23\n",
      "..                               ...\n",
      "941  08-01-2023 22:33;-17.35;-12;-23\n",
      "942  08-01-2023 22:34;-17.29;-12;-23\n",
      "943   08-01-2023 22:35;-17.3;-12;-23\n",
      "944   08-01-2023 22:36;-17.3;-12;-23\n",
      "945  08-01-2023 22:37;-17.31;-12;-23\n",
      "\n",
      "[946 rows x 1 columns]\n"
     ]
    }
   ],
   "source": [
    "\n",
    "\n",
    "import pandas as pd\n",
    "\n",
    "\n",
    "\n",
    "df = pd.read_csv(\"temp.csv\" )\n",
    "\n",
    "print(df)\n",
    "\n",
    "\n"
   ]
  },
  {
   "cell_type": "code",
   "execution_count": 2,
   "metadata": {},
   "outputs": [
    {
     "name": "stdout",
     "output_type": "stream",
     "text": [
      "Input:  -1.0  Output:  -3.0\n",
      "Input:  0.0  Output:  -1.0\n",
      "Input:  1.0  Output:  1.0\n",
      "Input:  2.0  Output:  3.0\n",
      "Input:  3.0  Output:  5.0\n",
      "Input:  4.0  Output:  7.0\n"
     ]
    }
   ],
   "source": [
    "#Arreglo X de entradas\n",
    "input_x=np.array([-1,0,1,2,3,4],dtype=float)\n",
    "#Arreglo Y de Salidas\n",
    "output_y=np.array([-3,-1,1,3,5,7], dtype=float)\n",
    "#Monstrando la correspondencia entre entradas y salidas\n",
    "for i,c in enumerate(input_x):\n",
    "  print(\"Input: \",c,\" Output: \", output_y[i])"
   ]
  },
  {
   "cell_type": "code",
   "execution_count": 3,
   "metadata": {},
   "outputs": [],
   "source": [
    "model=tf.keras.Sequential([keras.layers.Dense(units=1,input_shape=[1])])\n",
    "#Creación de arquitectura de red c"
   ]
  },
  {
   "cell_type": "code",
   "execution_count": 4,
   "metadata": {},
   "outputs": [],
   "source": [
    "model.compile(optimizer=\"sgd\",loss=\"mean_squared_error\")"
   ]
  },
  {
   "cell_type": "code",
   "execution_count": 5,
   "metadata": {},
   "outputs": [],
   "source": [
    "history=model.fit(input_x,output_y,epochs=500,verbose=False)"
   ]
  },
  {
   "cell_type": "code",
   "execution_count": 6,
   "metadata": {},
   "outputs": [
    {
     "data": {
      "text/plain": [
       "<function matplotlib.pyplot.show(close=None, block=None)>"
      ]
     },
     "execution_count": 6,
     "metadata": {},
     "output_type": "execute_result"
    },
    {
     "data": {
      "image/png": "[encoded data removed]",
      "text/plain": [
       "<Figure size 640x480 with 1 Axes>"
      ]
     },
     "metadata": {},
     "output_type": "display_data"
    }
   ],
   "source": [
    "#Importando libreria gráfica\n",
    "import matplotlib.pyplot as plt\n",
    "plt.xlabel(\"Epochs\")\n",
    "plt.ylabel(\"Loss\")\n",
    "plt.plot(history.history[\"loss\"])\n",
    "plt.show"
   ]
  },
  {
   "cell_type": "code",
   "execution_count": 7,
   "metadata": {},
   "outputs": [
    {
     "name": "stdout",
     "output_type": "stream",
     "text": [
      "1/1 [==============================] - 0s 92ms/step\n",
      "[[8.993275]]\n"
     ]
    }
   ],
   "source": [
    "#Testear el modelo\n",
    "print(model.predict([5]))"
   ]
  },
  {
   "cell_type": "code",
   "execution_count": 8,
   "metadata": {},
   "outputs": [
    {
     "name": "stdout",
     "output_type": "stream",
     "text": [
      "[array([[1.9964597]], dtype=float32), array([-0.98902386], dtype=float32)]\n"
     ]
    }
   ],
   "source": [
    "#Encontrando los pesos de la función lineal AX+B\n",
    "print(model.get_weights())"
   ]
  }
 ],
 "metadata": {
  "kernelspec": {
   "display_name": "Python 3.9.0 64-bit",
   "language": "python",
   "name": "python3"
  },
  "language_info": {
   "codemirror_mode": {
    "name": "ipython",
    "version": 3
   },
   "file_extension": ".py",
   "mimetype": "text/x-python",
   "name": "python",
   "nbconvert_exporter": "python",
   "pygments_lexer": "ipython3",
   "version": "3.9.0 (tags/v3.9.0:9cf6752, Oct  5 2020, 15:34:40) [MSC v.1927 64 bit (AMD64)]"
  },
  "orig_nbformat": 4,
  "vscode": {
   "interpreter": {
    "hash": "33198441ea01c1099b16aa908322b438e3aefad70531b66eaa24a90149d4234f"
   }
  }
 },
 "nbformat": 4,
 "nbformat_minor": 2
}
